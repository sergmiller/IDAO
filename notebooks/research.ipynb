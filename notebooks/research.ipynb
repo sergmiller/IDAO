{
 "cells": [
  {
   "cell_type": "code",
   "execution_count": 1,
   "metadata": {},
   "outputs": [],
   "source": [
    "import numpy as np\n",
    "import pandas as pd\n",
    "import os"
   ]
  },
  {
   "cell_type": "code",
   "execution_count": 17,
   "metadata": {},
   "outputs": [],
   "source": [
    "data_path = \"/Users/sergmiller/Documents/my/IDAO-2021/data/idao_dataset/\""
   ]
  },
  {
   "cell_type": "code",
   "execution_count": 18,
   "metadata": {},
   "outputs": [],
   "source": [
    "train_path = os.path.join(data_path, \"train\")"
   ]
  },
  {
   "cell_type": "code",
   "execution_count": 19,
   "metadata": {},
   "outputs": [],
   "source": [
    "train_NR = os.path.join(train_path, \"NR\")\n",
    "train_ER = os.path.join(train_path, \"ER\")"
   ]
  },
  {
   "cell_type": "code",
   "execution_count": 28,
   "metadata": {},
   "outputs": [],
   "source": [
    "def read_all_png_in_dir(path : str, limit : int = None) -> dict:\n",
    "    from os import listdir\n",
    "    from os.path import isfile, join\n",
    "    import matplotlib.pyplot as plt\n",
    "    import matplotlib.image as mpimg\n",
    "    import tqdm\n",
    "\n",
    "    imgs = listdir(path)\n",
    "    imgs = map(lambda f: join(path, f), imgs)\n",
    "    imgs = filter(lambda f: isfile(f) and '.png' == f[-4:], imgs)\n",
    "    imgs = list(imgs)\n",
    "    if limit is not None:\n",
    "        imgs = imgs[:limit]\n",
    "    data = {img : mpimg.imread(img) for img in tqdm.tqdm(imgs, position=0)}\n",
    "    return data"
   ]
  },
  {
   "cell_type": "code",
   "execution_count": 29,
   "metadata": {},
   "outputs": [
    {
     "name": "stderr",
     "output_type": "stream",
     "text": [
      "100%|██████████| 10/10 [00:00<00:00, 130.60it/s]\n"
     ]
    }
   ],
   "source": [
    "sample_train_NR_imgs = read_all_png_in_dir(train_NR, 10)"
   ]
  },
  {
   "cell_type": "code",
   "execution_count": 30,
   "metadata": {},
   "outputs": [
    {
     "name": "stderr",
     "output_type": "stream",
     "text": [
      "100%|██████████| 10/10 [00:00<00:00, 130.19it/s]\n"
     ]
    }
   ],
   "source": [
    "sample_train_ER_imgs = read_all_png_in_dir(train_ER, 10)"
   ]
  },
  {
   "cell_type": "code",
   "execution_count": 31,
   "metadata": {},
   "outputs": [
    {
     "data": {
      "text/plain": [
       "{'/Users/sergmiller/Documents/my/IDAO-2021/data/idao_dataset/train/NR/-0.301800012588501__CYGNO_60_40_He_NR_1_keV_930V_30cm_SRIM_IDAO_iso_crop_hist_pic_run3_ev372;1.png': array([[0.4       , 0.40784314, 0.40392157, ..., 0.42352942, 0.39215687,\n",
       "         0.39215687],\n",
       "        [0.41960785, 0.4       , 0.39607844, ..., 0.4       , 0.38431373,\n",
       "         0.3882353 ],\n",
       "        [0.39215687, 0.38431373, 0.4       , ..., 0.4117647 , 0.39607844,\n",
       "         0.38431373],\n",
       "        ...,\n",
       "        [0.4       , 0.42745098, 0.39607844, ..., 0.3882353 , 0.39215687,\n",
       "         0.38039216],\n",
       "        [0.4       , 0.3764706 , 0.39215687, ..., 0.41568628, 0.39607844,\n",
       "         0.3882353 ],\n",
       "        [0.4       , 0.38039216, 0.39607844, ..., 0.4117647 , 0.3882353 ,\n",
       "         0.38431373]], dtype=float32),\n",
       " '/Users/sergmiller/Documents/my/IDAO-2021/data/idao_dataset/train/NR/0.6492999792098999__CYGNO_60_40_He_NR_6_keV_930V_30cm_SRIM_IDAO_iso_crop_hist_pic_run2_ev479;1.png': array([[0.38431373, 0.3882353 , 0.39215687, ..., 0.36862746, 0.4       ,\n",
       "         0.39215687],\n",
       "        [0.38431373, 0.38039216, 0.41568628, ..., 0.3882353 , 0.4       ,\n",
       "         0.4117647 ],\n",
       "        [0.40392157, 0.37254903, 0.3882353 , ..., 0.4117647 , 0.3882353 ,\n",
       "         0.39607844],\n",
       "        ...,\n",
       "        [0.39215687, 0.40392157, 0.39215687, ..., 0.38431373, 0.39215687,\n",
       "         0.39215687],\n",
       "        [0.40392157, 0.41568628, 0.3882353 , ..., 0.39215687, 0.40784314,\n",
       "         0.40784314],\n",
       "        [0.4       , 0.39215687, 0.40392157, ..., 0.39607844, 0.39607844,\n",
       "         0.3882353 ]], dtype=float32),\n",
       " '/Users/sergmiller/Documents/my/IDAO-2021/data/idao_dataset/train/NR/-2.8698999881744385__CYGNO_60_40_He_NR_20_keV_930V_30cm_SRIM_IDAO_iso_crop_hist_pic_run4_ev914;1.png': array([[0.4       , 0.3764706 , 0.39215687, ..., 0.4       , 0.38431373,\n",
       "         0.39607844],\n",
       "        [0.3882353 , 0.4       , 0.39215687, ..., 0.41568628, 0.40392157,\n",
       "         0.3764706 ],\n",
       "        [0.39607844, 0.39215687, 0.4       , ..., 0.40392157, 0.4       ,\n",
       "         0.38039216],\n",
       "        ...,\n",
       "        [0.39607844, 0.3882353 , 0.40784314, ..., 0.38431373, 0.40392157,\n",
       "         0.3882353 ],\n",
       "        [0.40392157, 0.39215687, 0.40392157, ..., 0.39607844, 0.39607844,\n",
       "         0.39607844],\n",
       "        [0.38431373, 0.38431373, 0.39215687, ..., 0.4       , 0.39215687,\n",
       "         0.39215687]], dtype=float32),\n",
       " '/Users/sergmiller/Documents/my/IDAO-2021/data/idao_dataset/train/NR/-2.481300115585327__CYGNO_60_40_He_NR_1_keV_930V_30cm_SRIM_IDAO_iso_crop_hist_pic_run1_ev681;1.png': array([[0.4       , 0.38039216, 0.3882353 , ..., 0.39607844, 0.3882353 ,\n",
       "         0.3882353 ],\n",
       "        [0.39607844, 0.38431373, 0.38039216, ..., 0.40392157, 0.38431373,\n",
       "         0.40392157],\n",
       "        [0.39607844, 0.39607844, 0.39607844, ..., 0.40392157, 0.38039216,\n",
       "         0.39607844],\n",
       "        ...,\n",
       "        [0.43137255, 0.40392157, 0.38431373, ..., 0.39607844, 0.4       ,\n",
       "         0.39607844],\n",
       "        [0.39215687, 0.3882353 , 0.4       , ..., 0.38431373, 0.39215687,\n",
       "         0.39607844],\n",
       "        [0.4       , 0.37254903, 0.39607844, ..., 0.38431373, 0.38039216,\n",
       "         0.4       ]], dtype=float32),\n",
       " '/Users/sergmiller/Documents/my/IDAO-2021/data/idao_dataset/train/NR/-0.5986999869346619__CYGNO_60_40_He_NR_1_keV_930V_30cm_SRIM_IDAO_iso_crop_hist_pic_run3_ev194;1.png': array([[0.38431373, 0.37254903, 0.39215687, ..., 0.39215687, 0.38431373,\n",
       "         0.40784314],\n",
       "        [0.39607844, 0.40392157, 0.38431373, ..., 0.3882353 , 0.4       ,\n",
       "         0.39215687],\n",
       "        [0.39215687, 0.4       , 0.40392157, ..., 0.3882353 , 0.38039216,\n",
       "         0.38431373],\n",
       "        ...,\n",
       "        [0.39215687, 0.3882353 , 0.3882353 , ..., 0.39607844, 0.39607844,\n",
       "         0.3882353 ],\n",
       "        [0.39215687, 0.37254903, 0.4       , ..., 0.38431373, 0.38431373,\n",
       "         0.3882353 ],\n",
       "        [0.3882353 , 0.41960785, 0.3764706 , ..., 0.4       , 0.39215687,\n",
       "         0.39607844]], dtype=float32),\n",
       " '/Users/sergmiller/Documents/my/IDAO-2021/data/idao_dataset/train/NR/-2.2753000259399414__CYGNO_60_40_He_NR_6_keV_930V_30cm_SRIM_IDAO_iso_crop_hist_pic_run5_ev268;1.png': array([[0.39215687, 0.38431373, 0.4       , ..., 0.4       , 0.38431373,\n",
       "         0.4117647 ],\n",
       "        [0.39607844, 0.3882353 , 0.39215687, ..., 0.3882353 , 0.40392157,\n",
       "         0.39607844],\n",
       "        [0.4117647 , 0.3882353 , 0.40392157, ..., 0.39215687, 0.40392157,\n",
       "         0.39215687],\n",
       "        ...,\n",
       "        [0.40392157, 0.39607844, 0.40392157, ..., 0.3764706 , 0.3882353 ,\n",
       "         0.3882353 ],\n",
       "        [0.40392157, 0.36078432, 0.39607844, ..., 0.4       , 0.36862746,\n",
       "         0.39215687],\n",
       "        [0.4       , 0.39215687, 0.4       , ..., 0.38431373, 0.39215687,\n",
       "         0.38039216]], dtype=float32),\n",
       " '/Users/sergmiller/Documents/my/IDAO-2021/data/idao_dataset/train/NR/1.5053999423980713__CYGNO_60_40_He_NR_1_keV_930V_30cm_SRIM_IDAO_iso_crop_hist_pic_run2_ev934;1.png': array([[0.4117647 , 0.4       , 0.39607844, ..., 0.4       , 0.4       ,\n",
       "         0.3764706 ],\n",
       "        [0.39215687, 0.38039216, 0.39607844, ..., 0.3882353 , 0.39215687,\n",
       "         0.38039216],\n",
       "        [0.39215687, 0.3882353 , 0.3882353 , ..., 0.4117647 , 0.39607844,\n",
       "         0.38431373],\n",
       "        ...,\n",
       "        [0.40392157, 0.3882353 , 0.4       , ..., 0.3764706 , 0.39215687,\n",
       "         0.39607844],\n",
       "        [0.3882353 , 0.4       , 0.3764706 , ..., 0.39607844, 0.4       ,\n",
       "         0.3882353 ],\n",
       "        [0.39215687, 0.4       , 0.39607844, ..., 0.3882353 , 0.4       ,\n",
       "         0.3882353 ]], dtype=float32),\n",
       " '/Users/sergmiller/Documents/my/IDAO-2021/data/idao_dataset/train/NR/2.735100030899048__CYGNO_60_40_He_NR_20_keV_930V_30cm_SRIM_IDAO_iso_crop_hist_pic_run2_ev253;1.png': array([[0.4       , 0.41960785, 0.40392157, ..., 0.4       , 0.39215687,\n",
       "         0.3647059 ],\n",
       "        [0.38431373, 0.3764706 , 0.4       , ..., 0.39215687, 0.40784314,\n",
       "         0.39215687],\n",
       "        [0.38431373, 0.39607844, 0.4       , ..., 0.39607844, 0.3882353 ,\n",
       "         0.4       ],\n",
       "        ...,\n",
       "        [0.39607844, 0.38039216, 0.39607844, ..., 0.40784314, 0.39607844,\n",
       "         0.4117647 ],\n",
       "        [0.38039216, 0.3882353 , 0.39215687, ..., 0.39215687, 0.39215687,\n",
       "         0.4       ],\n",
       "        [0.40392157, 0.38431373, 0.38431373, ..., 0.41960785, 0.38039216,\n",
       "         0.39607844]], dtype=float32),\n",
       " '/Users/sergmiller/Documents/my/IDAO-2021/data/idao_dataset/train/NR/1.6510000228881836__CYGNO_60_40_He_NR_6_keV_930V_30cm_SRIM_IDAO_iso_crop_hist_pic_run4_ev649;1.png': array([[0.3764706 , 0.38431373, 0.4       , ..., 0.39607844, 0.39607844,\n",
       "         0.4       ],\n",
       "        [0.3882353 , 0.40392157, 0.38431373, ..., 0.3882353 , 0.39607844,\n",
       "         0.39215687],\n",
       "        [0.38431373, 0.40392157, 0.4117647 , ..., 0.3647059 , 0.3882353 ,\n",
       "         0.3882353 ],\n",
       "        ...,\n",
       "        [0.3882353 , 0.3882353 , 0.40392157, ..., 0.37254903, 0.39215687,\n",
       "         0.38039216],\n",
       "        [0.38431373, 0.43137255, 0.4       , ..., 0.4       , 0.3882353 ,\n",
       "         0.3882353 ],\n",
       "        [0.4       , 0.38431373, 0.39215687, ..., 0.39607844, 0.38431373,\n",
       "         0.40784314]], dtype=float32),\n",
       " '/Users/sergmiller/Documents/my/IDAO-2021/data/idao_dataset/train/NR/-0.07699999958276749__CYGNO_60_40_He_NR_1_keV_930V_30cm_SRIM_IDAO_iso_crop_hist_pic_run5_ev281;1.png': array([[0.39607844, 0.3882353 , 0.3882353 , ..., 0.4117647 , 0.3764706 ,\n",
       "         0.4       ],\n",
       "        [0.4       , 0.38431373, 0.38039216, ..., 0.3882353 , 0.39215687,\n",
       "         0.42352942],\n",
       "        [0.3882353 , 0.39215687, 0.4       , ..., 0.4117647 , 0.3882353 ,\n",
       "         0.40784314],\n",
       "        ...,\n",
       "        [0.4117647 , 0.37254903, 0.40392157, ..., 0.4117647 , 0.39215687,\n",
       "         0.4117647 ],\n",
       "        [0.4117647 , 0.3882353 , 0.4       , ..., 0.41568628, 0.40392157,\n",
       "         0.38039216],\n",
       "        [0.40784314, 0.38039216, 0.42352942, ..., 0.39215687, 0.38431373,\n",
       "         0.40392157]], dtype=float32)}"
      ]
     },
     "execution_count": 31,
     "metadata": {},
     "output_type": "execute_result"
    }
   ],
   "source": [
    "sample_train_NR_imgs"
   ]
  },
  {
   "cell_type": "code",
   "execution_count": 32,
   "metadata": {},
   "outputs": [],
   "source": [
    "class LabeledDataset:\n",
    "    def __init__(self):\n",
    "        self.samples = []\n",
    "        self.labels = []\n",
    "        self.tags = []\n",
    "\n",
    "    def add_sample(self, tag : str, sample : np.array, label : np.array):\n",
    "        self.samples.append(img)\n",
    "        self.labels.append(label)\n",
    "        self.tags.append(tag)\n",
    "        \n",
    "    def finalize(self):\n",
    "        self.samples = np.array(self.samples)\n",
    "        self.labels = np.array(self.labels)\n",
    "        self.tags = np.array(self.tags)"
   ]
  },
  {
   "cell_type": "code",
   "execution_count": 33,
   "metadata": {},
   "outputs": [],
   "source": [
    "from itertools import chain"
   ]
  },
  {
   "cell_type": "code",
   "execution_count": 34,
   "metadata": {},
   "outputs": [
    {
     "name": "stdout",
     "output_type": "stream",
     "text": [
      "1\n",
      "2\n",
      "3\n",
      "4\n",
      "5\n",
      "6\n"
     ]
    }
   ],
   "source": [
    "for x in chain([1,2,3],[4,5,6]):\n",
    "    print(x)"
   ]
  },
  {
   "cell_type": "code",
   "execution_count": null,
   "metadata": {},
   "outputs": [],
   "source": [
    "def build_particles_dataset(path : dir, limit : int = None) -> LabeledDataset:\n",
    "    ER_path = os.path.join(path, \"ER\")\n",
    "    NR_path = os.path.join(path, \"NR\")\n",
    "    ER_samples = read_all_png_in_dir(ER_path, limit)\n",
    "    NR_samples = read_all_png_in_dir(NR_path, limit)\n",
    "    "
   ]
  }
 ],
 "metadata": {
  "kernelspec": {
   "display_name": "Python 3",
   "language": "python",
   "name": "python3"
  },
  "language_info": {
   "codemirror_mode": {
    "name": "ipython",
    "version": 3
   },
   "file_extension": ".py",
   "mimetype": "text/x-python",
   "name": "python",
   "nbconvert_exporter": "python",
   "pygments_lexer": "ipython3",
   "version": "3.9.2"
  }
 },
 "nbformat": 4,
 "nbformat_minor": 4
}
