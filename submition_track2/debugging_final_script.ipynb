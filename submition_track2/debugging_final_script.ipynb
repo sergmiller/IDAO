{
 "cells": [
  {
   "cell_type": "code",
   "execution_count": 11,
   "metadata": {},
   "outputs": [],
   "source": [
    "import sys\n",
    "sys.path.append('..')\n",
    "from utils import dataset, applier, pipe\n",
    "\n",
    "PATH_TO_TEST_DIRS = ['tests/private_test', 'tests/publiс_test']\n",
    "\n",
    "def main(*args, **kwargs):\n",
    "\n",
    "    public_test_dataset = dataset.build_dataset(path=kwargs.path2public, limit=kwargs.limit)\n",
    "    private_test_dataset = dataset.build_dataset(path=kwargs.path2private, limit=kwargs.limit)\n",
    "    \n",
    "    emb_dataset = applier.build_embd_dataset(sample_dataset)\n",
    "    \n",
    "    # get models from file\n",
    "    model1 = kwargs.get('model1')\n",
    "    model2 = kwargs.get('model2')\n",
    "    \n",
    "    \n",
    "    public_test_predictions = pipe.apply_all_models_to_test_dataset(\n",
    "    public_test_dataset, cv_label2, cv_label2, 'public_test')\n",
    "    private_test_predictions = pipe.apply_all_models_to_test_dataset(\n",
    "    private_test_dataset, cv_label2, cv_label2, 'private_test')\n",
    "    \n",
    "    test_submit = dataset.LabeledDataset.merge(\n",
    "        public_test_predictions, private_test_predictions)\n",
    "    \n",
    "    dataset.dataset2submit_csv(test_submit, \"submission.csv\")"
   ]
  },
  {
   "cell_type": "code",
   "execution_count": null,
   "metadata": {},
   "outputs": [],
   "source": [
    "# debug start #\n",
    "DEBUG_PATH_TO_TRAIN_DIR = '../data/train/track_1.csv'\n",
    "DEBUG_DATA_LIMIT = 5\n",
    "\n",
    "class FakeModelWithProjection:\n",
    "    def __init__(self):\n",
    "        pass\n",
    "    def predict(self, *args, **kwargs):\n",
    "        return [1 for x in DEBUG_DATA_LIMIT]\n",
    "    def predict_proba(self, *args, **kwargs):\n",
    "        return [0.5 for x in DEBUG_DATA_LIMIT]\n",
    "\n",
    "main(\n",
    "    model1=FakeModelWithProjection(), \n",
    "    model2=FakeModelWithProjection(), \n",
    "    path2public=DEBUG_PATH_TO_TRAIN_DIR,\n",
    "    path2private=DEBUG_PATH_TO_TRAIN_DIR,\n",
    "    limit=DEBUG_DATA_LIMIT)"
   ]
  },
  {
   "cell_type": "code",
   "execution_count": 12,
   "metadata": {},
   "outputs": [],
   "source": [
    "from sklearn.linear_model import LogisticRegression\n",
    "from sklearn.metrics import roc_auc_score"
   ]
  },
  {
   "cell_type": "code",
   "execution_count": null,
   "metadata": {},
   "outputs": [],
   "source": [
    "LogisticRegression.predict()"
   ]
  }
 ],
 "metadata": {
  "kernelspec": {
   "display_name": "Python 3",
   "language": "python",
   "name": "python3"
  },
  "language_info": {
   "codemirror_mode": {
    "name": "ipython",
    "version": 3
   },
   "file_extension": ".py",
   "mimetype": "text/x-python",
   "name": "python",
   "nbconvert_exporter": "python",
   "pygments_lexer": "ipython3",
   "version": "3.7.3"
  }
 },
 "nbformat": 4,
 "nbformat_minor": 4
}
